{
 "cells": [
  {
   "cell_type": "markdown",
   "id": "4f0c1a13",
   "metadata": {},
   "source": [
    "# Variables definition"
   ]
  },
  {
   "cell_type": "code",
   "execution_count": 1,
   "id": "e6694810",
   "metadata": {},
   "outputs": [],
   "source": [
    "openai_endpoint       = \"https://mmopenaiscus.openai.azure.com/\"\n",
    "openai_api_key        = \"3365c19fc5374b469e926fcd40777eee\"\n",
    "openai_api_version    = \"2024-05-01-preview\"\n",
    "azure_deployment_name = \"gpt-4o-for-apim\"\n",
    "\n",
    "apim_endpoint         = \"https://mmapim02.azure-api.net/balanced-azure-openai-service-api/\"\n",
    "apim_subscription_key = \"afb487599b0546d0a1b01e7474982cff\"\n",
    "apim_api_version      = \"2023-09-01-preview\" # never used\n",
    "\n",
    "messages = [\n",
    "    {\n",
    "      \"role\": \"user\",\n",
    "      \"content\": \"What is a meaning function? Please summarize in less than 20 words.\"\n",
    "    }\n",
    "]"
   ]
  },
  {
   "cell_type": "markdown",
   "id": "cd6a20a1",
   "metadata": {},
   "source": [
    "# Invoking Open AI via HTTP"
   ]
  },
  {
   "cell_type": "code",
   "execution_count": 2,
   "id": "fd71820d",
   "metadata": {},
   "outputs": [
    {
     "name": "stdout",
     "output_type": "stream",
     "text": [
      "This is the Open AI endpoint and body that is invoked:\n",
      "- https://mmopenaiscus.openai.azure.com/openai/deployments/gpt-4o-for-apim/chat/completions?api-version=2024-05-01-preview\n",
      "- {'messages': [{'role': 'user', 'content': 'What is a meaning function? Please summarize in less than 20 words.'}]}\n"
     ]
    }
   ],
   "source": [
    "import requests\n",
    "\n",
    "messages_json = {\"messages\": messages}\n",
    "\n",
    "url = f\"{openai_endpoint}openai/deployments/{azure_deployment_name}/chat/completions?api-version={openai_api_version}\"\n",
    "print(f'This is the Open AI endpoint and body that is invoked:\\n- {url}\\n- {messages_json}')"
   ]
  },
  {
   "cell_type": "code",
   "execution_count": 3,
   "id": "f5c99c1d",
   "metadata": {},
   "outputs": [
    {
     "name": "stdout",
     "output_type": "stream",
     "text": [
      "A meaning function assigns semantic values to expressions in a language, determining their meaning.\n",
      "x-ms-region = South Central US\n"
     ]
    }
   ],
   "source": [
    "response_http = requests.post(url, headers = {'api-key':openai_api_key}, json = {\"messages\": messages})\n",
    "\n",
    "if (int(response_http.status_code / 100))==2:\n",
    "    print(f\"{response_http.json()['choices'][0]['message']['content']}\\nx-ms-region = {response_http.headers['x-ms-region']}\")\n",
    "else:\n",
    "    print(response_http.text)"
   ]
  },
  {
   "cell_type": "markdown",
   "id": "11960c92",
   "metadata": {},
   "source": [
    "# Invoking Open AI via Azure SDK"
   ]
  },
  {
   "cell_type": "code",
   "execution_count": 4,
   "id": "5efb11e4",
   "metadata": {},
   "outputs": [],
   "source": [
    "from openai import AzureOpenAI\n",
    "\n",
    "client = AzureOpenAI(\n",
    "    azure_endpoint = openai_endpoint,\n",
    "    api_key        = openai_api_key,\n",
    "    api_version    = openai_api_version\n",
    ")"
   ]
  },
  {
   "cell_type": "code",
   "execution_count": 5,
   "id": "6269dfb6",
   "metadata": {},
   "outputs": [
    {
     "name": "stdout",
     "output_type": "stream",
     "text": [
      "A meaning function links linguistic expressions to their semantic interpretations within a given context or language system.\n"
     ]
    }
   ],
   "source": [
    "response_sdk = client.chat.completions.create(\n",
    "    model    = azure_deployment_name,\n",
    "    messages = messages)\n",
    "\n",
    "print(response_sdk.choices[0].message.content)"
   ]
  },
  {
   "cell_type": "markdown",
   "id": "affb3432",
   "metadata": {},
   "source": [
    "# Invoking APIM via HTTP"
   ]
  },
  {
   "cell_type": "code",
   "execution_count": 12,
   "id": "0f95619e",
   "metadata": {},
   "outputs": [
    {
     "name": "stdout",
     "output_type": "stream",
     "text": [
      "This is the Open AI endpoint and body that is invoked:\n",
      "- https://mmapim02.azure-api.net/balanced-azure-openai-service-api/openai/deployments/gpt-4o-for-apim/chat/completions?api-version=2024-05-01-preview\n",
      "- {'messages': [{'role': 'user', 'content': 'What is a meaning function? Please summarize in less than 20 words.'}]}\n"
     ]
    }
   ],
   "source": [
    "import requests\n",
    "\n",
    "messages_json = {\"messages\": messages}\n",
    "\n",
    "url = f\"{apim_endpoint}openai/deployments/{azure_deployment_name}/chat/completions?api-version={openai_api_version}\"\n",
    "print(f'This is the Open AI endpoint and body that is invoked:\\n- {url}\\n- {messages_json}')"
   ]
  },
  {
   "cell_type": "code",
   "execution_count": 13,
   "id": "1807ad01",
   "metadata": {},
   "outputs": [
    {
     "name": "stdout",
     "output_type": "stream",
     "text": [
      "A meaning function maps linguistic expressions to their semantic interpretations in formal semantics.\n",
      "x-ms-region = Sweden Central\n"
     ]
    }
   ],
   "source": [
    "response_http = requests.post(url, headers = {'api-key':apim_subscription_key}, json = {\"messages\": messages})\n",
    "if (int(response_http.status_code / 100))==2:\n",
    "    print(f\"{response_http.json()['choices'][0]['message']['content']}\\nx-ms-region = {response_http.headers['x-ms-region']}\")\n",
    "else:\n",
    "    print(response_http.text)"
   ]
  },
  {
   "cell_type": "markdown",
   "id": "e5c894f2",
   "metadata": {},
   "source": [
    "# Invoking APIM via Azure SDK"
   ]
  },
  {
   "cell_type": "code",
   "execution_count": 14,
   "id": "80cbf6ab",
   "metadata": {},
   "outputs": [],
   "source": [
    "from openai import AzureOpenAI\n",
    "\n",
    "client = AzureOpenAI(\n",
    "    azure_endpoint = apim_endpoint,\n",
    "    api_key        = apim_subscription_key,\n",
    "    api_version    = openai_api_version\n",
    ")"
   ]
  },
  {
   "cell_type": "code",
   "execution_count": 15,
   "id": "a9d99753",
   "metadata": {},
   "outputs": [
    {
     "name": "stdout",
     "output_type": "stream",
     "text": [
      "A meaning function assigns semantic values or interpretations to linguistic expressions within a formal system or logic framework.\n"
     ]
    }
   ],
   "source": [
    "response_sdk = client.chat.completions.create(\n",
    "    model    = azure_deployment_name,\n",
    "    messages = messages)\n",
    "\n",
    "print(response_sdk.choices[0].message.content)"
   ]
  },
  {
   "cell_type": "markdown",
   "id": "0260d22e",
   "metadata": {},
   "source": [
    "## Loading test"
   ]
  },
  {
   "cell_type": "code",
   "execution_count": 16,
   "id": "fb8ea351",
   "metadata": {},
   "outputs": [
    {
     "name": "stdout",
     "output_type": "stream",
     "text": [
      "step 0 at 2024-06-29 21:56:10.153877: A meaning function maps linguistic expressions to their interpretations, representing how words and sentences convey meaning.\n",
      "step 1 at 2024-06-29 21:56:20.803325: A meaning function assigns interpreted meanings or semantic values to linguistic expressions or symbols.\n",
      "step 2 at 2024-06-29 21:56:21.214829: A meaning function assigns semantic values to expressions within a language, defining their meanings systematically.\n",
      "step 3 at 2024-06-29 21:56:21.620944: A meaning function assigns semantic values to linguistic expressions within a formal system or computational model.\n",
      "step 4 at 2024-06-29 21:56:23.087901: A meaning function assigns semantic values to expressions within a formal language or system, interpreting their significance.\n",
      "step 5 at 2024-06-29 21:56:23.510641: A meaning function maps expressions in a language to their meanings or interpretations within a specific context.\n",
      "step 6 at 2024-06-29 21:56:24.009650: A meaning function assigns values to words or sentences, defining their semantic interpretation in a given context.\n",
      "step 7 at 2024-06-29 21:56:24.393929: A meaning function assigns semantic content or interpretation to linguistic expressions within formal language or logic systems.\n",
      "step 8 at 2024-06-29 21:56:24.766993: A meaning function assigns semantic interpretations to linguistic expressions within a given language or formal system.\n",
      "step 9 at 2024-06-29 21:56:25.191192: A meaning function assigns semantic content or interpretations to linguistic expressions in formal language systems.\n",
      "step 10 at 2024-06-29 21:56:25.614855: A meaning function maps linguistic expressions to their meanings or references within a given context or model.\n",
      "step 11 at 2024-06-29 21:56:26.071263: A meaning function maps linguistic expressions to their meanings within the context of semantics and formal languages.\n",
      "step 12 at 2024-06-29 21:56:26.511349: A meaning function interprets symbols or expressions in a language to assign their meanings or values.\n",
      "step 13 at 2024-06-29 21:56:26.977142: A meaning function is a mapping that assigns meanings or interpretations to symbols or expressions within a formal system.\n",
      "step 14 at 2024-06-29 21:56:27.360626: A meaning function assigns semantic content to linguistic expressions within a formal language framework.\n",
      "step 15 at 2024-06-29 21:56:27.780623: A meaning function maps linguistic expressions to their semantic interpretations, explaining how language conveys meaning.\n",
      "step 16 at 2024-06-29 21:56:28.150805: A meaning function maps linguistic expressions to their semantic values, defining their meanings within a language.\n",
      "step 17 at 2024-06-29 21:56:28.561951: A meaning function assigns semantic values to linguistic expressions, determining their meaning within a given context.\n",
      "step 18 at 2024-06-29 21:56:29.018588: A meaning function maps linguistic expressions to their meanings, facilitating the interpretation of language in context.\n",
      "step 19 at 2024-06-29 21:56:29.463049: A meaning function assigns semantic values to linguistic expressions within a given formal or natural language system.\n",
      "step 20 at 2024-06-29 21:56:29.910452: A meaning function maps linguistic expressions to their meanings or interpretations in a given language system.\n",
      "step 21 at 2024-06-29 21:56:30.346624: A meaning function is a method that assigns semantic values or meanings to expressions in a formal language.\n",
      "step 22 at 2024-06-29 21:56:30.761570: A meaning function assigns interpretations or values to expressions within a formal language or semantic framework.\n",
      "step 23 at 2024-06-29 21:56:31.205377: A meaning function assigns semantic values to linguistic expressions within a formalized system of language or logic.\n",
      "step 24 at 2024-06-29 21:56:31.626081: A meaning function maps linguistic expressions to their meanings, often in semantics and language processing.\n",
      "step 25 at 2024-06-29 21:56:32.045789: A meaning function assigns semantic values to expressions within a specific formal language or system.\n",
      "step 26 at 2024-06-29 21:56:32.486238: A meaning function maps linguistic expressions to their meanings or semantic values in a formal system or language.\n",
      "step 27 at 2024-06-29 21:56:32.886023: A meaning function maps expressions to their meanings or interpretations in a given context or language.\n",
      "step 28 at 2024-06-29 21:56:33.269098: A meaning function assigns interpretations or values to symbols or expressions within a formal system or language.\n",
      "step 29 at 2024-06-29 21:56:33.663691: A meaning function maps linguistic expressions to their meanings or interpretations in a given context.\n",
      "step 30 at 2024-06-29 21:56:34.103668: A meaning function maps linguistic expressions to their meanings or interpretations within a given language system.\n",
      "step 31 at 2024-06-29 21:56:34.520848: A meaning function maps linguistic expressions to their meanings or interpretations in language comprehension and communication.\n",
      "step 32 at 2024-06-29 21:56:34.928613: A meaning function assigns semantic values or meanings to expressions within a formal language or logical system.\n",
      "step 33 at 2024-06-29 21:56:35.343330: A meaning function assigns semantic content or interpretations to symbols or expressions in a formal language.\n",
      "step 34 at 2024-06-29 21:56:35.735770: A meaning function assigns semantic interpretations to linguistic expressions within a formal language system.\n",
      "step 35 at 2024-06-29 21:56:36.131488: A meaning function maps linguistic expressions to their interpretations or meanings in a given context.\n",
      "step 36 at 2024-06-29 21:56:36.539920: A meaning function assigns semantic values to expressions within a formal language, defining their interpretation.\n",
      "step 37 at 2024-06-29 21:56:36.929196: A meaning function maps linguistic expressions to their meanings or interpretations in a given context.\n",
      "step 38 at 2024-06-29 21:56:37.366427: A meaning function maps linguistic expressions to their meanings or interpretations within a given context or model.\n",
      "step 39 at 2024-06-29 21:56:37.808385: A meaning function maps linguistic expressions to their corresponding meanings in a formal or conceptual system.\n",
      "step 40 at 2024-06-29 21:56:38.257653: A meaning function assigns interpretations or semantic values to linguistic expressions within a specific context or formal system.\n",
      "step 41 at 2024-06-29 21:56:38.720888: A meaning function assigns semantic values to linguistic expressions within a formal system or theory of language.\n",
      "step 42 at 2024-06-29 21:56:39.187471: A meaning function maps linguistic expressions to their meanings within a given context or framework, defining their interpretation.\n",
      "step 43 at 2024-06-29 21:56:39.635848: A meaning function assigns semantic values or interpretations to linguistic expressions within a formal system.\n",
      "step 44 at 2024-06-29 21:56:40.117912: A meaning function maps symbols, words, or expressions to their meanings or interpretations in a given context.\n",
      "step 45 at 2024-06-29 21:56:40.556929: A meaning function assigns semantic values or interpretations to expressions in language or formal systems.\n",
      "step 46 at 2024-06-29 21:56:41.006291: A meaning function maps linguistic expressions to their corresponding meanings or semantic interpretations in formal semantics.\n",
      "step 47 at 2024-06-29 21:56:41.421471: A meaning function assigns semantic values to linguistic expressions within a formal system or context.\n",
      "step 48 at 2024-06-29 21:56:41.865546: A meaning function maps linguistic expressions to their meanings or interpretations in semantics and computational linguistics.\n",
      "step 49 at 2024-06-29 21:56:42.284766: A meaning function maps linguistic expressions to their meanings or interpretations within a given context.\n",
      "step 50 at 2024-06-29 21:56:42.782788: A meaning function maps linguistic expressions to their semantic interpretations, defining their meanings within a given context.\n",
      "step 51 at 2024-06-29 21:56:43.257482: A meaning function assigns semantic values or meanings to linguistic expressions within a formal language system.\n",
      "step 52 at 2024-06-29 21:56:43.684611: A meaning function maps linguistic expressions to their semantic interpretations or meanings in a formal system.\n",
      "step 53 at 2024-06-29 21:56:44.126195: A meaning function maps linguistic expressions to their meanings or interpretations in a language system.\n",
      "step 54 at 2024-06-29 21:56:44.561073: A meaning function maps linguistic expressions to their meanings or interpretations within a given context or system.\n",
      "step 55 at 2024-06-29 21:56:44.999362: A meaning function maps linguistic expressions to their meanings, facilitating understanding in language processing or interpretation.\n",
      "step 56 at 2024-06-29 21:56:45.418448: A meaning function assigns semantic values to expressions in a formal language, determining their meanings.\n",
      "step 57 at 2024-06-29 21:56:45.859187: A meaning function assigns specific interpretations or values to expressions within a particular linguistic or logical framework.\n",
      "step 58 at 2024-06-29 21:56:46.616242: A meaning function assigns semantic values or meanings to linguistic expressions within a formal system or language.\n",
      "step 59 at 2024-06-29 21:56:47.002385: A meaning function assigns semantic interpretations to symbols or expressions in a formal language.\n",
      "step 60 at 2024-06-29 21:56:47.431392: A meaning function assigns meanings or interpretations to symbols or expressions within a formal language or system.\n",
      "step 61 at 2024-06-29 21:56:47.847203: A meaning function maps words or phrases to their semantic interpretations or meanings within a linguistic framework.\n",
      "step 62 at 2024-06-29 21:56:48.256342: A meaning function assigns semantic values to expressions in a language, determining their meanings formally.\n",
      "step 63 at 2024-06-29 21:56:48.669854: A meaning function assigns semantic values or interpretations to elements within a linguistic or logical system.\n",
      "step 64 at 2024-06-29 21:56:49.059480: A meaning function maps linguistic expressions to their meanings or interpretations within formal semantics.\n",
      "step 65 at 2024-06-29 21:56:49.453647: A meaning function maps linguistic expressions to their meanings or interpretations in a given language.\n",
      "step 66 at 2024-06-29 21:56:49.874200: A meaning function assigns interpretations or values to symbols or expressions in formal languages or logical systems.\n",
      "step 67 at 2024-06-29 21:56:50.300420: A meaning function assigns semantic values to linguistic expressions, defining their meaning within a particular language.\n",
      "step 68 at 2024-06-29 21:56:50.765214: A meaning function is a relationship that assigns semantic values to linguistic expressions within a given context or system.\n",
      "step 69 at 2024-06-29 21:56:51.190835: A meaning function assigns interpretations or meanings to symbols or expressions within a formal language or system.\n",
      "step 70 at 2024-06-29 21:56:51.616798: A meaning function assigns interpretations to linguistic expressions within a formal system, establishing their semantic content.\n",
      "step 71 at 2024-06-29 21:56:51.968317: A meaning function maps linguistic expressions to their meanings or semantic interpretations in formal semantics.\n",
      "step 72 at 2024-06-29 21:56:52.373861: A meaning function maps linguistic expressions to their corresponding meanings in a given context or semantic framework.\n",
      "step 73 at 2024-06-29 21:56:52.740853: A meaning function maps language expressions to their meanings within specific contexts or semantic frameworks.\n",
      "step 74 at 2024-06-29 21:56:53.129371: A meaning function maps linguistic expressions to their corresponding meanings or interpretations within a specific context.\n",
      "step 75 at 2024-06-29 21:56:53.505973: A meaning function maps linguistic expressions to their meanings in a systematic and formalized way.\n",
      "step 76 at 2024-06-29 21:56:53.896495: A meaning function maps linguistic expressions to their meanings or interpretations within a given context.\n",
      "step 77 at 2024-06-29 21:56:54.294945: A meaning function maps linguistic expressions to their meanings or interpretations in a given context.\n",
      "step 78 at 2024-06-29 21:56:54.693335: A meaning function maps linguistic expressions to their meanings within a particular semantic framework or context.\n",
      "step 79 at 2024-06-29 21:56:55.100080: A meaning function maps linguistic expressions to their corresponding interpretations or meanings within a given context.\n",
      "step 80 at 2024-06-29 21:56:55.490413: A meaning function assigns semantic values to linguistic expressions within a formal language or system.\n",
      "step 81 at 2024-06-29 21:56:55.884463: A meaning function maps linguistic expressions to their meanings or interpretations in a given context.\n",
      "step 82 at 2024-06-29 21:56:56.343267: A meaning function assigns semantic interpretations or meanings to words, phrases, or symbols within a language or formal system.\n",
      "step 83 at 2024-06-29 21:56:56.728517: A meaning function assigns values to expressions regarding their significance or truth in a given context or model.\n",
      "step 84 at 2024-06-29 21:56:57.102339: A meaning function maps linguistic expressions to their semantic values or interpretations in a given context.\n",
      "step 85 at 2024-06-29 21:56:57.811579: A meaning function assigns meanings to linguistic expressions based on context and rules within a given language system.\n",
      "step 86 at 2024-06-29 21:56:58.403855: A meaning function assigns meanings to expressions in a language, interpreting symbols according to specific rules or contexts.\n",
      "step 87 at 2024-06-29 21:56:58.801236: A meaning function assigns semantic values to linguistic expressions, determining their meaning within a given context.\n",
      "step 88 at 2024-06-29 21:56:59.164065: A meaning function assigns semantic interpretations to syntactic structures or expressions in a language.\n",
      "step 89 at 2024-06-29 21:56:59.579405: A meaning function maps linguistic expressions to their corresponding meanings or interpretations within a given context.\n",
      "step 90 at 2024-06-29 21:56:59.987658: A meaning function maps linguistic expressions to their semantic interpretations or meanings within a specific context or model.\n",
      "step 91 at 2024-06-29 21:57:00.430992: A meaning function maps linguistic expressions to their meanings or interpretations in a given context.\n",
      "step 92 at 2024-06-29 21:57:21.902586: A meaning function assigns semantic values to expressions in a language, determining their meanings systematically.\n",
      "step 93 at 2024-06-29 21:57:32.447570: A meaning function assigns semantic values to linguistic expressions within a formal system or language model.\n",
      "step 94 at 2024-06-29 21:57:32.874189: A meaning function maps linguistic expressions to their meanings, determining the relationship between language and its interpretations.\n",
      "step 95 at 2024-06-29 21:57:33.289809: A meaning function assigns semantic interpretations to elements or structures within a language or formal system.\n",
      "step 96 at 2024-06-29 21:57:33.707300: A meaning function maps linguistic expressions to their corresponding meanings or semantic interpretations in a formal system.\n",
      "step 97 at 2024-06-29 21:57:34.118197: A meaning function maps linguistic expressions to their semantic interpretations in formal semantics or computational linguistics.\n",
      "step 98 at 2024-06-29 21:57:34.529059: A meaning function maps linguistic expressions to their corresponding meanings or interpretations in a formal language system.\n",
      "step 99 at 2024-06-29 21:57:34.933945: A meaning function maps linguistic expressions to their semantic interpretations or meanings within a particular context.\n",
      "step 100 at 2024-06-29 21:57:35.330043: A meaning function maps linguistic expressions to their meanings or interpretations in a formal system.\n",
      "step 101 at 2024-06-29 21:57:35.747210: A meaning function assigns meanings to expressions or symbols within a formal language or system.\n",
      "step 102 at 2024-06-29 21:57:36.146153: A meaning function assigns semantic values to expressions within a language, determining their meaning systematically.\n",
      "step 103 at 2024-06-29 21:57:36.602439: A meaning function assigns semantic values to expressions within a formal language, linking symbols to their interpretations or meanings.\n",
      "step 104 at 2024-06-29 21:57:37.002343: A meaning function computes the semantic value or interpretation of linguistic expressions in a formal language.\n",
      "step 105 at 2024-06-29 21:57:37.445048: A meaning function maps expressions in a language to their interpretations, often used in semantics and logic analysis.\n",
      "step 106 at 2024-06-29 21:57:37.840787: A meaning function maps linguistic expressions to their semantic meanings or interpretations.\n",
      "step 107 at 2024-06-29 21:57:38.262550: A meaning function maps linguistic expressions to their meanings within a specific context or interpretive framework.\n",
      "step 108 at 2024-06-29 21:57:38.683248: A meaning function maps linguistic expressions to their semantic interpretations in computational linguistics and formal semantics.\n",
      "step 109 at 2024-06-29 21:57:39.074561: A meaning function assigns meanings to linguistic expressions within a formal system or semantics framework.\n",
      "step 110 at 2024-06-29 21:57:39.506524: A meaning function maps linguistic expressions to their meanings, enabling the understanding and interpretation of language.\n",
      "step 111 at 2024-06-29 21:57:39.930366: A meaning function maps linguistic expressions to their meanings or interpretations within a given context or theoretical framework.\n",
      "step 112 at 2024-06-29 21:57:40.335642: A meaning function assigns semantic content to linguistic expressions, linking language to concepts or phenomena.\n",
      "step 113 at 2024-06-29 21:57:40.762575: A meaning function assigns semantic values to expressions within a formal language, controlling their interpretative significance.\n",
      "step 114 at 2024-06-29 21:57:41.210523: A meaning function assigns semantic content or interpretation to symbols, expressions, or sentences in a language.\n",
      "step 115 at 2024-06-29 21:57:41.687246: A meaning function assigns interpretations or values to symbols, expressions, or sentences within a formal language or logic system.\n",
      "step 116 at 2024-06-29 21:57:42.078280: A meaning function assigns semantic values or interpretations to linguistic expressions within a formal system.\n",
      "step 117 at 2024-06-29 21:57:42.487761: A meaning function maps linguistic expressions to their semantic interpretations in a formal or computational context.\n",
      "step 118 at 2024-06-29 21:57:42.873623: A meaning function assigns semantic interpretations to expressions in a language, determining their meanings.\n",
      "step 119 at 2024-06-29 21:57:43.328198: A meaning function assigns meanings to expressions in a formal language, linking symbols to their interpretations.\n",
      "step 120 at 2024-06-29 21:57:43.715914: A meaning function maps linguistic expressions to their meanings or interpretations in a given context.\n",
      "step 121 at 2024-06-29 21:57:44.163056: A meaning function assigns interpretations or meanings to symbols, expressions, or sentences within a formal language or system.\n",
      "step 122 at 2024-06-29 21:57:44.593095: A meaning function maps linguistic expressions to their meanings, often within formal semantics and computational linguistics.\n",
      "step 123 at 2024-06-29 21:57:45.022301: A meaning function assigns interpretations to linguistic expressions within formal semantics or logic, mapping symbols to their meanings.\n",
      "step 124 at 2024-06-29 21:57:45.442205: A meaning function assigns specific interpretations or values to linguistic expressions within a given context or logical framework.\n",
      "step 125 at 2024-06-29 21:57:45.876696: A meaning function specifies how symbols or expressions map to their meanings or interpretations within a formal system.\n",
      "step 126 at 2024-06-29 21:57:46.305738: A meaning function assigns semantic values to expressions, determining their meaning within a formal language or context.\n",
      "step 127 at 2024-06-29 21:57:46.755009: A meaning function is a mathematical or computational tool that assigns interpretations to symbols or expressions within a given framework.\n",
      "step 128 at 2024-06-29 21:57:47.160978: A meaning function maps linguistic expressions to their meanings or interpretations in a systematic way.\n",
      "step 129 at 2024-06-29 21:57:47.578677: A meaning function maps linguistic expressions to their meanings within a specific semantic framework.\n",
      "step 130 at 2024-06-29 21:57:47.972981: A meaning function assigns semantic values to expressions in a language, linking syntax to interpretation.\n",
      "step 131 at 2024-06-29 21:57:48.346143: A meaning function maps linguistic expressions to their meanings or interpretations within a given context or system.\n",
      "step 132 at 2024-06-29 21:57:48.718027: A meaning function is a rule that assigns interpretations or meanings to symbols or expressions in a formal system.\n",
      "step 133 at 2024-06-29 21:57:49.163802: A meaning function assigns interpretations or meanings to expressions in a formal language or logical system.\n",
      "step 134 at 2024-06-29 21:57:51.102435: A meaning function assigns semantic values to expressions in a formal language, determining their interpretation or meaning.\n",
      "step 135 at 2024-06-29 21:57:51.486558: A meaning function maps linguistic expressions to their corresponding meanings or interpretations in a given context.\n",
      "step 136 at 2024-06-29 21:57:51.887149: A meaning function assigns semantic values or meanings to symbols, phrases, or expressions within a formal language or logic.\n",
      "step 137 at 2024-06-29 21:57:52.320403: A meaning function maps linguistic expressions to their meanings or interpretations within a formal language system.\n",
      "step 138 at 2024-06-29 21:57:52.741504: A meaning function assigns semantic interpretations to linguistic expressions based on syntax-semantics correspondence rules.\n",
      "step 139 at 2024-06-29 21:57:53.199048: A meaning function maps linguistic expressions to their meanings or semantic interpretations in computational linguistics and formal semantics.\n",
      "step 140 at 2024-06-29 21:57:53.648834: A meaning function maps linguistic expressions to their meanings or interpretations in a given context.\n",
      "step 141 at 2024-06-29 21:57:54.093738: A meaning function describes how symbols or words are mapped to their meanings in a language or system.\n",
      "step 142 at 2024-06-29 21:57:54.486985: A meaning function assigns specific interpretations or values to expressions within a formal language or system.\n",
      "step 143 at 2024-06-29 21:57:54.851026: A meaning function maps linguistic expressions to their meanings within a specific semantic framework or context.\n",
      "step 144 at 2024-06-29 21:57:55.214573: A meaning function maps linguistic expressions to their semantic interpretations, defining how language conveys meaning.\n",
      "step 145 at 2024-06-29 21:57:55.564638: A meaning function maps linguistic expressions to their meanings or interpretations in a language.\n",
      "step 146 at 2024-06-29 21:57:55.996576: A meaning function maps linguistic expressions to their corresponding meanings or interpretations in a given context.\n",
      "step 147 at 2024-06-29 21:57:56.375549: A meaning function defines how expressions in a language relate to their meanings or interpretations.\n",
      "step 148 at 2024-06-29 21:57:56.775531: A meaning function maps linguistic expressions to their semantic meanings within a given context or model.\n",
      "step 149 at 2024-06-29 21:57:57.259095: A meaning function maps linguistic expressions to their meanings or interpretations in a specific context or framework.\n",
      "step 150 at 2024-06-29 21:57:57.702552: A meaning function assigns meanings to linguistic expressions within a formal system or semantic framework.\n",
      "step 151 at 2024-06-29 21:57:58.175043: A meaning function assigns interpretations or semantic values to linguistic expressions within a given formal system.\n",
      "step 152 at 2024-06-29 21:57:58.645727: A meaning function associates linguistic expressions with their meanings or interpretations within a given context or language framework.\n",
      "step 153 at 2024-06-29 21:57:59.074645: A meaning function maps expressions to their meanings or interpretations, often within the context of formal semantics and language comprehension.\n",
      "step 154 at 2024-06-29 21:57:59.436503: A meaning function maps linguistic expressions to their semantic interpretations or meanings in a given context.\n",
      "step 155 at 2024-06-29 21:57:59.823966: A meaning function maps linguistic expressions to their semantic interpretations or meanings within a given context or system.\n",
      "step 156 at 2024-06-29 21:58:00.199387: A meaning function maps linguistic expressions to their corresponding interpretations or semantic values in a given context.\n",
      "step 157 at 2024-06-29 21:58:00.609555: A meaning function maps linguistic expressions to their interpretations or meanings within a specific model or context.\n",
      "step 158 at 2024-06-29 21:58:01.059583: A meaning function maps linguistic expressions to their meanings in formal semantics or computational linguistics.\n",
      "step 159 at 2024-06-29 21:58:01.543187: A meaning function maps symbols or expressions to their corresponding meanings or interpretations within a specific context or system.\n",
      "step 160 at 2024-06-29 21:58:02.017633: A meaning function assigns interpretations or values to symbols or expressions in a formal language or logic system.\n",
      "step 161 at 2024-06-29 21:58:02.501229: A meaning function maps linguistic expressions to their meanings or interpretations within a specific context or system.\n",
      "step 162 at 2024-06-29 21:58:02.979825: A meaning function assigns interpretations or semantic values to expressions within a formal language or logical system.\n",
      "step 163 at 2024-06-29 21:58:03.444705: A meaning function maps linguistic expressions to their corresponding meanings or interpretations in a given context.\n",
      "step 164 at 2024-06-29 21:58:03.895712: A meaning function maps linguistic expressions to their meanings or interpretations in a specific context.\n",
      "step 165 at 2024-06-29 21:58:04.370071: A meaning function assigns meanings or interpretations to linguistic elements like words, phrases, or sentences.\n",
      "step 166 at 2024-06-29 21:58:04.819672: A meaning function maps expressions to their meanings or interpretations within a given context or system.\n",
      "step 167 at 2024-06-29 21:58:05.243476: A meaning function is a mapping between linguistic expressions and their semantic interpretations or meanings.\n",
      "step 168 at 2024-06-29 21:58:05.648837: A meaning function maps symbols or expressions to their corresponding meanings or interpretations in a specific context.\n",
      "step 169 at 2024-06-29 21:58:06.063973: A meaning function maps linguistic expressions to their meanings within a formal language or logical system.\n",
      "step 170 at 2024-06-29 21:58:06.515210: A meaning function maps linguistic expressions to their meanings or semantic values within a given context.\n",
      "step 171 at 2024-06-29 21:58:07.032881: A meaning function maps linguistic expressions to their interpretations or meanings within a specific context or framework.\n",
      "step 172 at 2024-06-29 21:58:07.497966: A meaning function maps linguistic expressions to their interpretations or meanings within a specific context or system.\n",
      "step 173 at 2024-06-29 21:58:07.929114: A meaning function maps linguistic expressions to their meanings or interpretations within a specific context or system.\n",
      "step 174 at 2024-06-29 21:58:08.379450: A meaning function maps linguistic expressions to their semantic content, determining meaning in language or formal systems.\n",
      "step 175 at 2024-06-29 21:58:08.886445: A meaning function assigns semantic values, or meanings, to linguistic expressions in formal semantics or computational linguistics.\n",
      "step 176 at 2024-06-29 21:58:09.293741: A meaning function assigns semantic values to linguistic expressions within a formal system or language.\n",
      "step 177 at 2024-06-29 21:58:09.763509: A meaning function maps linguistic expressions to their meanings or interpretations in a given context or language system.\n",
      "step 178 at 2024-06-29 21:58:10.217981: A meaning function maps linguistic expressions to their corresponding meanings or interpretations in a given language system.\n",
      "step 179 at 2024-06-29 21:58:10.706026: A meaning function maps linguistic expressions to their corresponding meanings or interpretations in a given context.\n",
      "step 180 at 2024-06-29 21:58:11.163084: A meaning function maps linguistic expressions to their meanings or interpretations in a systematic manner.\n",
      "step 181 at 2024-06-29 21:58:11.646252: A meaning function assigns interpretations or values to symbols, words, or expressions within a language or formal system.\n",
      "step 182 at 2024-06-29 21:58:12.143476: A meaning function assigns semantic values to expressions in a language, often used in formal semantics and logic.\n",
      "step 183 at 2024-06-29 21:58:12.572662: A meaning function maps linguistic expressions to their meanings in a formal or computational system.\n",
      "step 184 at 2024-06-29 21:58:33.063422: A meaning function assigns interpretations to linguistic expressions within a formal system or language.\n",
      "step 185 at 2024-06-29 21:58:43.482430: A meaning function maps linguistic expressions to their semantic values or interpretations.\n",
      "step 186 at 2024-06-29 21:58:43.921516: A meaning function maps linguistic expressions to their semantic interpretations in formal language theory or computational linguistics.\n",
      "step 187 at 2024-06-29 21:58:44.272734: A meaning function maps linguistic expressions to their meanings in semantic analysis.\n",
      "step 188 at 2024-06-29 21:58:44.692937: A meaning function assigns semantic values to linguistic expressions within a formal system, determining their interpretation.\n",
      "step 189 at 2024-06-29 21:58:45.046993: A meaning function maps linguistic expressions to their meanings in formal semantics.\n",
      "step 190 at 2024-06-29 21:58:45.449486: A meaning function assigns semantic values to linguistic expressions within a formal language.\n",
      "step 191 at 2024-06-29 21:58:45.909775: A meaning function maps linguistic expressions to their corresponding meanings or interpretations within a given context or theory.\n",
      "step 192 at 2024-06-29 21:58:46.334564: A meaning function assigns interpretations or semantic values to expressions in formal languages or logical systems.\n",
      "step 193 at 2024-06-29 21:58:46.736840: A meaning function maps expressions in a language to their corresponding meanings or interpretations.\n",
      "step 194 at 2024-06-29 21:58:47.180478: A meaning function relates linguistic expressions to their meanings in a systematic and rule-governed manner.\n",
      "step 195 at 2024-06-29 21:58:47.617563: A meaning function assigns semantic interpretations to expressions or symbols in a formal language or logical system.\n",
      "step 196 at 2024-06-29 21:58:48.015069: A meaning function maps linguistic expressions to their meanings, facilitating interpretation of language.\n",
      "step 197 at 2024-06-29 21:58:48.372059: A meaning function assigns semantics or interpretative values to elements within a language or formal system.\n",
      "step 198 at 2024-06-29 21:58:48.774842: A meaning function maps linguistic expressions to their meanings or semantic values within a given language framework.\n",
      "step 199 at 2024-06-29 21:58:49.186589: A meaning function assigns semantic values to linguistic expressions within a given theoretical framework or context.\n"
     ]
    }
   ],
   "source": [
    "from datetime import datetime\n",
    "for i in range(200):\n",
    "    response_sdk = client.chat.completions.create(\n",
    "        model    = azure_deployment_name,\n",
    "        messages = messages)\n",
    "\n",
    "    print(f\"step {i} at {datetime.now()}: {response_sdk.choices[0].message.content}\")"
   ]
  }
 ],
 "metadata": {
  "kernelspec": {
   "display_name": "openai",
   "language": "python",
   "name": "openai"
  },
  "language_info": {
   "codemirror_mode": {
    "name": "ipython",
    "version": 3
   },
   "file_extension": ".py",
   "mimetype": "text/x-python",
   "name": "python",
   "nbconvert_exporter": "python",
   "pygments_lexer": "ipython3",
   "version": "3.11.9"
  }
 },
 "nbformat": 4,
 "nbformat_minor": 5
}
