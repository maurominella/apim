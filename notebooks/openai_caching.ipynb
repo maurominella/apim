{
 "cells": [
  {
   "cell_type": "markdown",
   "id": "4f0c1a13",
   "metadata": {},
   "source": [
    "# Variables definition"
   ]
  },
  {
   "cell_type": "code",
   "execution_count": 1,
   "id": "e6694810",
   "metadata": {},
   "outputs": [
    {
     "name": "stdout",
     "output_type": "stream",
     "text": [
      "openai_endpoint: https://mmoaiswc-01.openai.azure.com/\n",
      "openai_endpoint2: https://mmai-hub04-ai-servicesfvye.openai.azure.com/\n"
     ]
    }
   ],
   "source": [
    "import os, json\n",
    "from dotenv import load_dotenv # requires python-dotenv\n",
    "\n",
    "load_dotenv(\"./../../config/credentials_my.env\")\n",
    "\n",
    "openai_endpoint       = os.environ[\"azure_openai_endpoint\"]\n",
    "openai_api_key        = os.environ[\"azure_openai_api_key\"]\n",
    "openai_endpoint2      = os.environ[\"azure_openai_endpoint2\"]\n",
    "openai_api_key2       = os.environ[\"azure_openai_api_key2\"]\n",
    "\n",
    "\n",
    "openai_api_version    = \"2024-12-01-preview\" # or \"2024-10-01-preview\"\n",
    "azure_deployment_name = \"o1\" # \"gpt-4o-2024-08-06\" or \"o1\" or \"o1-bis\"\n",
    "\n",
    "messages = [\n",
    "    {\n",
    "      \"role\": \"user\",\n",
    "      \"content\": \"\"\n",
    "    }\n",
    "]\n",
    "\n",
    "with open(\"openai_caching_request01.txt\", \"r\") as file:\n",
    "    request01 = file.read()\n",
    "\n",
    "with open(\"openai_caching_request02.txt\", \"r\") as file:\n",
    "    request02 = file.read()\n",
    "\n",
    "print(f\"openai_endpoint: {openai_endpoint}\\nopenai_endpoint2: {openai_endpoint2}\")"
   ]
  },
  {
   "cell_type": "markdown",
   "id": "cd6a20a1",
   "metadata": {},
   "source": [
    "# Invoking Open AI via HTTP\n",
    "Invoking Azure OpenAI through HTTP requires to append `openai/` to the base Azure OpenAI endpoint, e.g.\n",
    "- [https://mmoaiscus-01.openai.azure.com/](https://mmoaiscus-01.openai.azure.com/) must become:\n",
    "- [https://mmoaiscus-01.openai.azure.com/openai/](https://mmoaiscus-01.openai.azure.com/openai)"
   ]
  },
  {
   "cell_type": "code",
   "execution_count": 2,
   "id": "fd71820d",
   "metadata": {},
   "outputs": [
    {
     "name": "stdout",
     "output_type": "stream",
     "text": [
      "This is the Open AI endpoint and body that will be invoked:\n",
      "- https://mmoaiswc-01.openai.azure.com/openai/deployments/o1/chat/completions?api-version=2024-12-01-preview\n"
     ]
    }
   ],
   "source": [
    "import requests\n",
    "\n",
    "url = f\"{openai_endpoint}openai/deployments/{azure_deployment_name}/chat/completions?api-version={openai_api_version}\" # \"openai/\" was appended\n",
    "print(f'This is the Open AI endpoint and body that will be invoked:\\n- {url}')"
   ]
  },
  {
   "cell_type": "code",
   "execution_count": 3,
   "id": "f5c99c1d",
   "metadata": {},
   "outputs": [
    {
     "data": {
      "text/plain": [
       "{'completion_tokens': 1937,\n",
       " 'completion_tokens_details': {'accepted_prediction_tokens': 0,\n",
       "  'audio_tokens': 0,\n",
       "  'reasoning_tokens': 448,\n",
       "  'rejected_prediction_tokens': 0},\n",
       " 'prompt_tokens': 1896,\n",
       " 'prompt_tokens_details': {'audio_tokens': 0, 'cached_tokens': 0},\n",
       " 'total_tokens': 3833}"
      ]
     },
     "execution_count": 3,
     "metadata": {},
     "output_type": "execute_result"
    }
   ],
   "source": [
    "messages[0][\"content\"] =  request01 # switch between request01 and request02, and run it again\n",
    "messages_json = {\"messages\": messages}\n",
    "\n",
    "response_http = requests.post(url, headers = {'api-key':openai_api_key}, json = {\"messages\": messages})\n",
    "\n",
    "response_json = response_http.json()\n",
    "\n",
    "if (int(response_http.status_code / 100)) != 2:\n",
    "    print(f\"Error: {response_http.text}\")\n",
    "\n",
    "response_json.get(\"usage\")"
   ]
  },
  {
   "cell_type": "code",
   "execution_count": null,
   "id": "dcc833c3-6dbd-4f63-8511-2b79a6216d5d",
   "metadata": {},
   "outputs": [],
   "source": [
    "messages[0][\"content\"] =  request02 # switch between request01 and request02, and run it again\n",
    "messages_json = {\"messages\": messages}\n",
    "\n",
    "response_http = requests.post(url, headers = {'api-key':openai_api_key}, json = {\"messages\": messages})\n",
    "\n",
    "response_json = response_http.json()\n",
    "\n",
    "if (int(response_http.status_code / 100)) != 2:\n",
    "    print(f\"Error: {response_http.text}\")\n",
    "\n",
    "response_json.get(\"usage\")"
   ]
  },
  {
   "cell_type": "markdown",
   "id": "11960c92",
   "metadata": {},
   "source": [
    "# Invoking Open AI via Azure SDK\n",
    "In this case, the SDK expects the \"pure\" Azure OpenAI endpoint [https://mmoaiscus-01.openai.azure.com/](https://mmoaiscus-01.openai.azure.com/), which will be used internally to make the call.<br/>\n",
    "In other words, in a trasparent way for the Developer whose task is just to pass the \"pure\" Azure OpenAI endpoint, the Azure OpenAI SDK receives it and then internally appends the `openai/` string to the base endpoint to make it work."
   ]
  },
  {
   "cell_type": "code",
   "execution_count": 6,
   "id": "5efb11e4",
   "metadata": {},
   "outputs": [],
   "source": [
    "from openai import AzureOpenAI\n",
    "\n",
    "client = AzureOpenAI(\n",
    "    azure_endpoint = openai_endpoint2,\n",
    "    api_key        = openai_api_key2,\n",
    "    api_version    = openai_api_version\n",
    ")"
   ]
  },
  {
   "cell_type": "code",
   "execution_count": 10,
   "id": "6269dfb6",
   "metadata": {},
   "outputs": [
    {
     "data": {
      "text/plain": [
       "{'completion_tokens': 1718,\n",
       " 'prompt_tokens': 1896,\n",
       " 'total_tokens': 3614,\n",
       " 'completion_tokens_details': {'accepted_prediction_tokens': 0,\n",
       "  'audio_tokens': 0,\n",
       "  'reasoning_tokens': 256,\n",
       "  'rejected_prediction_tokens': 0},\n",
       " 'prompt_tokens_details': {'audio_tokens': 0, 'cached_tokens': 0}}"
      ]
     },
     "execution_count": 10,
     "metadata": {},
     "output_type": "execute_result"
    }
   ],
   "source": [
    "messages[0][\"content\"] =  request01 # switch between request01 and request02, and run it again\n",
    "messages_json = {\"messages\": messages}\n",
    "\n",
    "response_sdk = client.chat.completions.create(\n",
    "    model    = \"o1\", # different name but same model and version\n",
    "    messages = messages)\n",
    "\n",
    "json.loads(response_sdk.model_dump_json())[\"usage\"]"
   ]
  },
  {
   "cell_type": "code",
   "execution_count": 11,
   "id": "acf24671-9622-4162-8856-e2899d0ded30",
   "metadata": {},
   "outputs": [
    {
     "data": {
      "text/plain": [
       "{'completion_tokens': 1931,\n",
       " 'prompt_tokens': 1967,\n",
       " 'total_tokens': 3898,\n",
       " 'completion_tokens_details': {'accepted_prediction_tokens': 0,\n",
       "  'audio_tokens': 0,\n",
       "  'reasoning_tokens': 512,\n",
       "  'rejected_prediction_tokens': 0},\n",
       " 'prompt_tokens_details': {'audio_tokens': 0, 'cached_tokens': 1792}}"
      ]
     },
     "execution_count": 11,
     "metadata": {},
     "output_type": "execute_result"
    }
   ],
   "source": [
    "messages[0][\"content\"] =  request02 # switch between request01 and request02, and run it again\n",
    "messages_json = {\"messages\": messages}\n",
    "\n",
    "response_sdk = client.chat.completions.create(\n",
    "    model    = \"o1\", # different name but same model and version\n",
    "    messages = messages)\n",
    "\n",
    "json.loads(response_sdk.model_dump_json())[\"usage\"]"
   ]
  }
 ],
 "metadata": {
  "kernelspec": {
   "display_name": "openai",
   "language": "python",
   "name": "openai"
  },
  "language_info": {
   "codemirror_mode": {
    "name": "ipython",
    "version": 3
   },
   "file_extension": ".py",
   "mimetype": "text/x-python",
   "name": "python",
   "nbconvert_exporter": "python",
   "pygments_lexer": "ipython3",
   "version": "3.11.11"
  }
 },
 "nbformat": 4,
 "nbformat_minor": 5
}
