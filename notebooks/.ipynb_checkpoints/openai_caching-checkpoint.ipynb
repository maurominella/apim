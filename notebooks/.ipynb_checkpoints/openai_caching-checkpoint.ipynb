{
 "cells": [
  {
   "cell_type": "markdown",
   "id": "4f0c1a13",
   "metadata": {},
   "source": [
    "# Variables definition"
   ]
  },
  {
   "cell_type": "code",
   "execution_count": 1,
   "id": "e6694810",
   "metadata": {},
   "outputs": [
    {
     "name": "stdout",
     "output_type": "stream",
     "text": [
      "openai_endpoint: https://mmoaiswc-01.openai.azure.com/\n",
      "openai_endpoint2: https://mmai-hub04-ai-servicesfvye.openai.azure.com/\n"
     ]
    }
   ],
   "source": [
    "import os, json, datetime, time\n",
    "from dotenv import load_dotenv # requires python-dotenv\n",
    "\n",
    "load_dotenv(\"./../../config/credentials_my.env\")\n",
    "\n",
    "openai_endpoint       = os.environ[\"azure_openai_endpoint\"]\n",
    "openai_api_key        = os.environ[\"azure_openai_api_key\"]\n",
    "openai_endpoint2      = os.environ[\"azure_openai_endpoint2\"]\n",
    "openai_api_key2       = os.environ[\"azure_openai_api_key2\"]\n",
    "\n",
    "\n",
    "openai_api_version    = \"2024-12-01-preview\" # or \"2024-10-01-preview\"\n",
    "azure_deployment_name = \"o1\" # \"gpt-4o-2024-08-06\" or \"o1\" or \"o1-bis\"\n",
    "\n",
    "short_wait_time =   60\n",
    "long_wait_time  = 1200\n",
    "\n",
    "messages = [\n",
    "    {\n",
    "      \"role\": \"user\",\n",
    "      \"content\": \"\"\n",
    "    }\n",
    "]\n",
    "\n",
    "with open(\"openai_caching_request01.txt\", \"r\") as file:\n",
    "    request01 = file.read()\n",
    "\n",
    "with open(\"openai_caching_request02.txt\", \"r\") as file:\n",
    "    request02 = file.read()\n",
    "\n",
    "print(f\"openai_endpoint: {openai_endpoint}\\nopenai_endpoint2: {openai_endpoint2}\")"
   ]
  },
  {
   "cell_type": "markdown",
   "id": "cd6a20a1",
   "metadata": {},
   "source": [
    "# Invoking Open AI via HTTP\n",
    "Invoking Azure OpenAI through HTTP requires to append `openai/` to the base Azure OpenAI endpoint, e.g.\n",
    "- [https://mmoaiscus-01.openai.azure.com/](https://mmoaiscus-01.openai.azure.com/) must become:\n",
    "- [https://mmoaiscus-01.openai.azure.com/openai/](https://mmoaiscus-01.openai.azure.com/openai)"
   ]
  },
  {
   "cell_type": "code",
   "execution_count": 2,
   "id": "fd71820d",
   "metadata": {},
   "outputs": [
    {
     "name": "stdout",
     "output_type": "stream",
     "text": [
      "This is the Open AI endpoint and body that will be invoked:\n",
      "- https://mmoaiswc-01.openai.azure.com/openai/deployments/o1/chat/completions?api-version=2024-12-01-preview\n"
     ]
    }
   ],
   "source": [
    "import requests\n",
    "\n",
    "url = f\"{openai_endpoint}openai/deployments/{azure_deployment_name}/chat/completions?api-version={openai_api_version}\" # \"openai/\" was appended\n",
    "print(f'This is the Open AI endpoint and body that will be invoked:\\n- {url}')"
   ]
  },
  {
   "cell_type": "markdown",
   "id": "80c8feaa-08b9-4e3a-a7c2-a0b7ef591206",
   "metadata": {},
   "source": [
    "## Deployment #1 of OpenAI Service #1"
   ]
  },
  {
   "cell_type": "code",
   "execution_count": 3,
   "id": "0375d812-e89f-425c-b562-7b746aa30d88",
   "metadata": {},
   "outputs": [
    {
     "name": "stdout",
     "output_type": "stream",
     "text": [
      "Current date/time after waiting 12 seconds: 2025-04-16 10:51:20\n"
     ]
    }
   ],
   "source": [
    "time.sleep(long_wait_time) # ten minutes, just to reset the system\n",
    "\n",
    "print(f'Current date/time after waiting {long_wait_time} seconds: {datetime.datetime.now().strftime(\"%Y-%m-%d %H:%M:%S\")}')"
   ]
  },
  {
   "cell_type": "code",
   "execution_count": 4,
   "id": "f5c99c1d",
   "metadata": {},
   "outputs": [
    {
     "data": {
      "text/plain": [
       "{'completion_tokens': 1419,\n",
       " 'completion_tokens_details': {'accepted_prediction_tokens': 0,\n",
       "  'audio_tokens': 0,\n",
       "  'reasoning_tokens': 320,\n",
       "  'rejected_prediction_tokens': 0},\n",
       " 'prompt_tokens': 1896,\n",
       " 'prompt_tokens_details': {'audio_tokens': 0, 'cached_tokens': 0},\n",
       " 'total_tokens': 3315}"
      ]
     },
     "execution_count": 4,
     "metadata": {},
     "output_type": "execute_result"
    }
   ],
   "source": [
    "messages[0][\"content\"] =  request01 # switch between request01 and request02, and run it again\n",
    "messages_json = {\"messages\": messages}\n",
    "\n",
    "response_http = requests.post(url, headers = {'api-key':openai_api_key}, json = {\"messages\": messages})\n",
    "\n",
    "response_json = response_http.json()\n",
    "\n",
    "if (int(response_http.status_code / 100)) != 2:\n",
    "    print(f\"Error: {response_http.text}\")\n",
    "\n",
    "response_json.get(\"usage\")"
   ]
  },
  {
   "cell_type": "markdown",
   "id": "8898b695-b089-4d49-b678-1bead0697a6b",
   "metadata": {},
   "source": [
    "## Deployment #1 of OpenAI Service #1 (again)"
   ]
  },
  {
   "cell_type": "code",
   "execution_count": 5,
   "id": "504290be-17eb-4bdc-9bed-cbe87ad611cb",
   "metadata": {},
   "outputs": [
    {
     "name": "stdout",
     "output_type": "stream",
     "text": [
      "Current date/time after waiting 60 seconds: 2025-04-16 10:52:35\n"
     ]
    }
   ],
   "source": [
    "time.sleep(short_wait_time)\n",
    "\n",
    "print(f'Current date/time after waiting {short_wait_time} seconds: {datetime.datetime.now().strftime(\"%Y-%m-%d %H:%M:%S\")}')"
   ]
  },
  {
   "cell_type": "code",
   "execution_count": 6,
   "id": "dcc833c3-6dbd-4f63-8511-2b79a6216d5d",
   "metadata": {},
   "outputs": [
    {
     "data": {
      "text/plain": [
       "{'completion_tokens': 1661,\n",
       " 'completion_tokens_details': {'accepted_prediction_tokens': 0,\n",
       "  'audio_tokens': 0,\n",
       "  'reasoning_tokens': 256,\n",
       "  'rejected_prediction_tokens': 0},\n",
       " 'prompt_tokens': 1967,\n",
       " 'prompt_tokens_details': {'audio_tokens': 0, 'cached_tokens': 1792},\n",
       " 'total_tokens': 3628}"
      ]
     },
     "execution_count": 6,
     "metadata": {},
     "output_type": "execute_result"
    }
   ],
   "source": [
    "messages[0][\"content\"] =  request02 # switch between request01 and request02, and run it again\n",
    "messages_json = {\"messages\": messages}\n",
    "\n",
    "response_http = requests.post(url, headers = {'api-key':openai_api_key}, json = {\"messages\": messages})\n",
    "\n",
    "response_json = response_http.json()\n",
    "\n",
    "if (int(response_http.status_code / 100)) != 2:\n",
    "    print(f\"Error: {response_http.text}\")\n",
    "\n",
    "response_json.get(\"usage\")"
   ]
  },
  {
   "cell_type": "markdown",
   "id": "ca94d02c-741a-4ca6-a918-830d297b22a3",
   "metadata": {},
   "source": [
    "## Deployment #2 of OpenAI Service #1"
   ]
  },
  {
   "cell_type": "code",
   "execution_count": 7,
   "id": "44f3ce56-449b-4330-b9f7-e7b2d70c513e",
   "metadata": {},
   "outputs": [
    {
     "name": "stdout",
     "output_type": "stream",
     "text": [
      "Current date/time after waiting 60 seconds: 2025-04-16 10:53:51\n"
     ]
    }
   ],
   "source": [
    "time.sleep(short_wait_time)\n",
    "\n",
    "print(f'Current date/time after waiting {short_wait_time} seconds: {datetime.datetime.now().strftime(\"%Y-%m-%d %H:%M:%S\")}')"
   ]
  },
  {
   "cell_type": "code",
   "execution_count": 8,
   "id": "7c6ceedf-e0c2-4436-83cc-ec265bcb66a2",
   "metadata": {},
   "outputs": [
    {
     "data": {
      "text/plain": [
       "{'completion_tokens': 1628,\n",
       " 'completion_tokens_details': {'accepted_prediction_tokens': 0,\n",
       "  'audio_tokens': 0,\n",
       "  'reasoning_tokens': 448,\n",
       "  'rejected_prediction_tokens': 0},\n",
       " 'prompt_tokens': 1896,\n",
       " 'prompt_tokens_details': {'audio_tokens': 0, 'cached_tokens': 1536},\n",
       " 'total_tokens': 3524}"
      ]
     },
     "execution_count": 8,
     "metadata": {},
     "output_type": "execute_result"
    }
   ],
   "source": [
    "messages[0][\"content\"] =  request01 # switch between request01 and request02, and run it again\n",
    "messages_json = {\"messages\": messages}\n",
    "\n",
    "response_http = requests.post(url, headers = {'api-key':openai_api_key}, json = {\"messages\": messages})\n",
    "\n",
    "response_json = response_http.json()\n",
    "\n",
    "if (int(response_http.status_code / 100)) != 2:\n",
    "    print(f\"Error: {response_http.text}\")\n",
    "\n",
    "response_json.get(\"usage\")"
   ]
  },
  {
   "cell_type": "markdown",
   "id": "11960c92",
   "metadata": {},
   "source": [
    "# Invoking Open AI via Azure SDK\n",
    "In this case, the SDK expects the \"pure\" Azure OpenAI endpoint [https://mmoaiscus-01.openai.azure.com/](https://mmoaiscus-01.openai.azure.com/), which will be used internally to make the call.<br/>\n",
    "In other words, in a trasparent way for the Developer whose task is just to pass the \"pure\" Azure OpenAI endpoint, the Azure OpenAI SDK receives it and then internally appends the `openai/` string to the base endpoint to make it work."
   ]
  },
  {
   "cell_type": "code",
   "execution_count": 9,
   "id": "5efb11e4",
   "metadata": {},
   "outputs": [],
   "source": [
    "from openai import AzureOpenAI\n",
    "\n",
    "client = AzureOpenAI(\n",
    "    azure_endpoint = openai_endpoint2,\n",
    "    api_key        = openai_api_key2,\n",
    "    api_version    = openai_api_version\n",
    ")"
   ]
  },
  {
   "cell_type": "markdown",
   "id": "26568590-04be-433e-a495-cd0d15861b28",
   "metadata": {},
   "source": [
    "## Deployment #1 of OpenAI Service #2"
   ]
  },
  {
   "cell_type": "code",
   "execution_count": 10,
   "id": "242e3d22-6e95-495a-bda1-8a2b74e7ba7a",
   "metadata": {},
   "outputs": [
    {
     "name": "stdout",
     "output_type": "stream",
     "text": [
      "Current date/time after waiting 60 seconds: 2025-04-16 10:55:09\n"
     ]
    }
   ],
   "source": [
    "time.sleep(short_wait_time)\n",
    "\n",
    "print(f'Current date/time after waiting {short_wait_time} seconds: {datetime.datetime.now().strftime(\"%Y-%m-%d %H:%M:%S\")}')"
   ]
  },
  {
   "cell_type": "code",
   "execution_count": 11,
   "id": "6269dfb6",
   "metadata": {},
   "outputs": [
    {
     "data": {
      "text/plain": [
       "{'completion_tokens': 1421,\n",
       " 'prompt_tokens': 1896,\n",
       " 'total_tokens': 3317,\n",
       " 'completion_tokens_details': {'accepted_prediction_tokens': 0,\n",
       "  'audio_tokens': 0,\n",
       "  'reasoning_tokens': 64,\n",
       "  'rejected_prediction_tokens': 0},\n",
       " 'prompt_tokens_details': {'audio_tokens': 0, 'cached_tokens': 0}}"
      ]
     },
     "execution_count": 11,
     "metadata": {},
     "output_type": "execute_result"
    }
   ],
   "source": [
    "messages[0][\"content\"] =  request01 # switch between request01 and request02, and run it again\n",
    "messages_json = {\"messages\": messages}\n",
    "\n",
    "response_sdk = client.chat.completions.create(\n",
    "    model    = azure_deployment_name, \n",
    "    messages = messages)\n",
    "\n",
    "json.loads(response_sdk.model_dump_json())[\"usage\"]"
   ]
  },
  {
   "cell_type": "markdown",
   "id": "c11b66b4-7c48-4e82-ab34-dd7ebfba8992",
   "metadata": {},
   "source": [
    "## Deployment #2 of OpenAI Service #2"
   ]
  },
  {
   "cell_type": "code",
   "execution_count": 12,
   "id": "bba2a5d8-3062-4e4e-9615-cfa2ae4a4ec5",
   "metadata": {},
   "outputs": [
    {
     "name": "stdout",
     "output_type": "stream",
     "text": [
      "Current date/time after waiting 60 seconds: 2025-04-16 10:56:26\n"
     ]
    }
   ],
   "source": [
    "time.sleep(short_wait_time)\n",
    "\n",
    "print(f'Current date/time after waiting {short_wait_time} seconds: {datetime.datetime.now().strftime(\"%Y-%m-%d %H:%M:%S\")}')"
   ]
  },
  {
   "cell_type": "code",
   "execution_count": 13,
   "id": "acf24671-9622-4162-8856-e2899d0ded30",
   "metadata": {},
   "outputs": [
    {
     "data": {
      "text/plain": [
       "{'completion_tokens': 2035,\n",
       " 'prompt_tokens': 1967,\n",
       " 'total_tokens': 4002,\n",
       " 'completion_tokens_details': {'accepted_prediction_tokens': 0,\n",
       "  'audio_tokens': 0,\n",
       "  'reasoning_tokens': 640,\n",
       "  'rejected_prediction_tokens': 0},\n",
       " 'prompt_tokens_details': {'audio_tokens': 0, 'cached_tokens': 1536}}"
      ]
     },
     "execution_count": 13,
     "metadata": {},
     "output_type": "execute_result"
    }
   ],
   "source": [
    "messages[0][\"content\"] =  request02 # switch between request01 and request02, and run it again\n",
    "messages_json = {\"messages\": messages}\n",
    "\n",
    "response_sdk = client.chat.completions.create(\n",
    "    model    = f\"{azure_deployment_name}-bis\",\n",
    "    messages = messages)\n",
    "\n",
    "json.loads(response_sdk.model_dump_json())[\"usage\"]"
   ]
  }
 ],
 "metadata": {
  "kernelspec": {
   "display_name": "openai",
   "language": "python",
   "name": "openai"
  },
  "language_info": {
   "codemirror_mode": {
    "name": "ipython",
    "version": 3
   },
   "file_extension": ".py",
   "mimetype": "text/x-python",
   "name": "python",
   "nbconvert_exporter": "python",
   "pygments_lexer": "ipython3",
   "version": "3.11.11"
  }
 },
 "nbformat": 4,
 "nbformat_minor": 5
}
